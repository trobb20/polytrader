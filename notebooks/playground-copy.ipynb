{
 "cells": [
  {
   "cell_type": "code",
   "execution_count": 6,
   "id": "6c118db3",
   "metadata": {},
   "outputs": [],
   "source": [
    "import sys\n",
    "sys.path.append('/opt/notebooks/polytrader')"
   ]
  },
  {
   "cell_type": "code",
   "execution_count": 7,
   "id": "6318697e",
   "metadata": {},
   "outputs": [],
   "source": [
    "from agents.polymarket.polymarket import Polymarket"
   ]
  },
  {
   "cell_type": "code",
   "execution_count": 8,
   "id": "01f6aa0f",
   "metadata": {},
   "outputs": [],
   "source": [
    "p = Polymarket()"
   ]
  },
  {
   "cell_type": "code",
   "execution_count": 9,
   "id": "26cabd0c",
   "metadata": {},
   "outputs": [],
   "source": [
    "game = p.get_market_by_slug('nfl-phi-bal-2024-12-01')\n",
    "outcome = game.outcomes[0]"
   ]
  },
  {
   "cell_type": "code",
   "execution_count": null,
   "id": "d20dee0c",
   "metadata": {},
   "outputs": [],
   "source": [
    "from agents.trackers.market_tracker import MarketChannel, MarketMessage\n",
    "import asyncio\n",
    "async def track(market_obj):\n",
    "    # Initialize market channel\n",
    "    market_channel = MarketChannel(market_obj)\n",
    "\n",
    "    # Example callback function\n",
    "    def handle_market_update(outcome: str, message: MarketMessage):\n",
    "        print(f'Market update for {outcome}: {message}')\n",
    "        \n",
    "    await market_channel.connect()\n",
    "\n",
    "    # Add callback for specific assets\n",
    "    market_channel.add_outcome_callback(outcome, handle_market_update)\n",
    "\n",
    "    try:\n",
    "        # Keep connection alive\n",
    "        while True:\n",
    "            await asyncio.sleep(1)\n",
    "    except KeyboardInterrupt:\n",
    "        await market_channel.close()"
   ]
  },
  {
   "cell_type": "code",
   "execution_count": null,
   "id": "339e4af4",
   "metadata": {},
   "outputs": [],
   "source": [
    "await track(game)"
   ]
  }
 ],
 "metadata": {
  "kernelspec": {
   "display_name": "Python 3.9.10 (py39)",
   "language": "python",
   "name": "py39"
  },
  "language_info": {
   "codemirror_mode": {
    "name": "ipython",
    "version": 3
   },
   "file_extension": ".py",
   "mimetype": "text/x-python",
   "name": "python",
   "nbconvert_exporter": "python",
   "pygments_lexer": "ipython3",
   "version": "3.9.10"
  }
 },
 "nbformat": 4,
 "nbformat_minor": 5
}
