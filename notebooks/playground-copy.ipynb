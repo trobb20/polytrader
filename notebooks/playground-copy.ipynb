{
 "cells": [
  {
   "cell_type": "code",
   "execution_count": 6,
   "id": "6c118db3",
   "metadata": {},
   "outputs": [],
   "source": [
    "import sys\n",
    "sys.path.append('/opt/notebooks/polytrader')"
   ]
  },
  {
   "cell_type": "code",
   "execution_count": 7,
   "id": "6318697e",
   "metadata": {},
   "outputs": [],
   "source": [
    "from agents.polymarket.polymarket import Polymarket\n",
    "from agents.trackers.market_tracker import OrderBook\n",
    "from typing import Dict"
   ]
  },
  {
   "cell_type": "code",
   "execution_count": 8,
   "id": "01f6aa0f",
   "metadata": {},
   "outputs": [],
   "source": [
    "p = Polymarket()"
   ]
  },
  {
   "cell_type": "code",
   "execution_count": 9,
   "id": "26cabd0c",
   "metadata": {},
   "outputs": [],
   "source": [
    "game = p.get_market_by_slug('nfl-sf-buf-2024-12-01')\n",
    "outcome = game.outcomes[0]\n",
    "# Initialize dictionary to store order books for each outcome\n",
    "order_books: Dict[str, OrderBook] = {}"
   ]
  },
  {
   "cell_type": "code",
   "execution_count": null,
   "id": "6c0b431c",
   "metadata": {},
   "outputs": [],
   "source": [
    "import matplotlib.pyplot as plt\n",
    "from IPython.display import clear_output, display\n",
    "import time\n",
    "from collections import deque\n",
    "import numpy as np"
   ]
  },
  {
   "cell_type": "code",
   "execution_count": null,
   "id": "42240b4d",
   "metadata": {},
   "outputs": [],
   "source": [
    "def handle_market_update(outcome: str, message: dict):\n",
    "    order_book = order_books.get(outcome)\n",
    "    if order_book is None:\n",
    "        order_book = OrderBook()\n",
    "        order_books[outcome] = order_book\n",
    "    \n",
    "    if message['event_type'] == 'book':\n",
    "        order_book.update_from_book(message)\n",
    "    elif message['event_type'] == 'price_change':\n",
    "        order_book.update_from_price_change(message)\n",
    "    elif message['event_type'] == 'last_trade_price':\n",
    "        order_book.update_last_trade(message)\n",
    "\n",
    "def create_live_plot(outcome: str, message: dict):\n",
    "    order_book = order_books.get(outcome)\n",
    "    if order_book is None:\n",
    "        return\n",
    "    # Initialize data storage\n",
    "    timestamps = deque(maxlen=100)\n",
    "    best_asks = deque(maxlen=100)\n",
    "    best_bids = deque(maxlen=100)\n",
    "    last_trades = deque(maxlen=100)\n",
    "    \n",
    "    # Get current best prices\n",
    "    best_ask = order_book.get_best_ask()\n",
    "    best_bid = order_book.get_best_bid()\n",
    "    \n",
    "    # Update data\n",
    "    current_time = time.time()\n",
    "    timestamps.append(current_time)\n",
    "    \n",
    "    best_asks.append(best_ask[0] if best_ask else None)\n",
    "    best_bids.append(best_bid[0] if best_bid else None)\n",
    "    last_trades.append(order_book.last_trade.price if order_book.last_trade else None)\n",
    "    \n",
    "    # Create plot\n",
    "    fig, ax = plt.subplots(figsize=(12, 6))\n",
    "    \n",
    "    # Convert timestamps to relative time (seconds from start)\n",
    "    relative_times = np.array(timestamps) - timestamps[0] if timestamps else []\n",
    "    \n",
    "    # Plot data\n",
    "    ax.plot(relative_times, best_asks, 'r-', label='Best Ask', alpha=0.7)\n",
    "    ax.plot(relative_times, best_bids, 'g-', label='Best Bid', alpha=0.7)\n",
    "    ax.plot(relative_times, last_trades, 'b.', label='Last Trade', alpha=0.5)\n",
    "    \n",
    "    # Customize plot\n",
    "    ax.set_title(f'Live Order Book - {outcome}')\n",
    "    ax.set_xlabel('Time (seconds)')\n",
    "    ax.set_ylabel('Price')\n",
    "    ax.grid(True, alpha=0.3)\n",
    "    ax.legend()\n",
    "    \n",
    "    # Add current values as text\n",
    "    current_ask = best_asks[-1] if best_asks else None\n",
    "    current_bid = best_bids[-1] if best_bids else None\n",
    "    current_trade = last_trades[-1] if last_trades else None\n",
    "    \n",
    "    text = f'Current Ask: {current_ask:.3f}\\n' if current_ask else ''\n",
    "    text += f'Current Bid: {current_bid:.3f}\\n' if current_bid else ''\n",
    "    text += f'Last Trade: {current_trade:.3f}' if current_trade else ''\n",
    "    \n",
    "    ax.text(0.02, 0.98, text,\n",
    "            transform=ax.transAxes,\n",
    "            verticalalignment='top',\n",
    "            bbox=dict(boxstyle='round', facecolor='white', alpha=0.8))\n",
    "    \n",
    "    # Display plot\n",
    "    clear_output(wait=True)\n",
    "    display(fig)"
   ]
  },
  {
   "cell_type": "code",
   "execution_count": null,
   "id": "d20dee0c",
   "metadata": {},
   "outputs": [],
   "source": [
    "from agents.trackers.market_tracker import MarketChannel\n",
    "import asyncio\n",
    "async def track(market_obj):\n",
    "    # Initialize market channel\n",
    "    market_channel = MarketChannel(market_obj)\n",
    "\n",
    "    await market_channel.connect()\n",
    "\n",
    "    # Add callback for specific assets\n",
    "    market_channel.add_outcome_callback(outcome, handle_market_update)\n",
    "    market_channel.add_outcome_callback(outcome, create_live_plot)\n",
    "\n",
    "    try:\n",
    "        # Keep connection alive\n",
    "        while True:\n",
    "            await asyncio.sleep(1)\n",
    "    except KeyboardInterrupt:\n",
    "        await market_channel.close()"
   ]
  },
  {
   "cell_type": "code",
   "execution_count": null,
   "id": "339e4af4",
   "metadata": {},
   "outputs": [],
   "source": [
    "await track(game)"
   ]
  }
 ],
 "metadata": {
  "kernelspec": {
   "display_name": "Python 3.9.10 (py39)",
   "language": "python",
   "name": "py39"
  },
  "language_info": {
   "codemirror_mode": {
    "name": "ipython",
    "version": 3
   },
   "file_extension": ".py",
   "mimetype": "text/x-python",
   "name": "python",
   "nbconvert_exporter": "python",
   "pygments_lexer": "ipython3",
   "version": "3.9.10"
  }
 },
 "nbformat": 4,
 "nbformat_minor": 5
}
