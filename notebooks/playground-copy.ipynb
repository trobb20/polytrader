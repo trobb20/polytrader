{
 "cells": [
  {
   "cell_type": "code",
   "execution_count": 5,
   "id": "6c118db3",
   "metadata": {},
   "outputs": [],
   "source": [
    "import sys\n",
    "sys.path.append('/opt/notebooks/polytrader')"
   ]
  },
  {
   "cell_type": "code",
   "execution_count": 6,
   "id": "6318697e",
   "metadata": {},
   "outputs": [],
   "source": [
    "from agents.polymarket.polymarket import Polymarket"
   ]
  },
  {
   "cell_type": "code",
   "execution_count": 7,
   "id": "01f6aa0f",
   "metadata": {},
   "outputs": [],
   "source": [
    "p = Polymarket()"
   ]
  },
  {
   "cell_type": "code",
   "execution_count": 9,
   "id": "26cabd0c",
   "metadata": {},
   "outputs": [],
   "source": [
    "game = p.get_market_by_slug('nfl-phi-bal-2024-12-01')"
   ]
  },
  {
   "cell_type": "code",
   "execution_count": null,
   "id": "0fa04e0b",
   "metadata": {},
   "outputs": [],
   "source": [
    "import time\n",
    "import matplotlib.pyplot as plt\n",
    "from datetime import datetime\n",
    "from IPython import display\n",
    "\n",
    "token = game.token1\n",
    "buy_prices = []\n",
    "sell_prices = []\n",
    "times = []\n",
    "\n",
    "while True:\n",
    "    try:\n",
    "        # Clear previous output\n",
    "        display.clear_output(wait=True)\n",
    "        \n",
    "        buy_price = float(p.client.get_price(token, side='buy')['price'])\n",
    "        sell_price = float(p.client.get_price(token, side='sell')['price'])\n",
    "        current_time = datetime.now()\n",
    "        \n",
    "        buy_prices.append(buy_price)\n",
    "        sell_prices.append(sell_price)\n",
    "        times.append(current_time)\n",
    "        \n",
    "        # Keep last 50 data points\n",
    "        if len(times) > 50:\n",
    "            times = times[-50:]\n",
    "            buy_prices = buy_prices[-50:]\n",
    "            sell_prices = sell_prices[-50:]\n",
    "        \n",
    "        # Create new figure for each update\n",
    "        fig, ax = plt.subplots()\n",
    "        ax.plot(times, buy_prices, label='Buy Price')\n",
    "        ax.plot(times, sell_prices, label='Sell Price')\n",
    "        ax.legend()\n",
    "        ax.grid(True)\n",
    "        ax.set_title(f\"Market Prices for {game.question}\")\n",
    "        fig.autofmt_xdate()\n",
    "        \n",
    "        # Display the plot\n",
    "        display.display(plt.gcf())\n",
    "        plt.close()\n",
    "        \n",
    "        time.sleep(1) # Wait 1 second between updates\n",
    "        \n",
    "    except Exception as e:\n",
    "        print(f\"Error: {e}\")\n",
    "        time.sleep(1)\n",
    "        continue"
   ]
  }
 ],
 "metadata": {
  "kernelspec": {
   "display_name": "Python 3.9.10 (py39)",
   "language": "python",
   "name": "py39"
  },
  "language_info": {
   "codemirror_mode": {
    "name": "ipython",
    "version": 3
   },
   "file_extension": ".py",
   "mimetype": "text/x-python",
   "name": "python",
   "nbconvert_exporter": "python",
   "pygments_lexer": "ipython3",
   "version": "3.9.10"
  }
 },
 "nbformat": 4,
 "nbformat_minor": 5
}
