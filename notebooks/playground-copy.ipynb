{
 "cells": [
  {
   "cell_type": "code",
   "execution_count": null,
   "id": "6c118db3",
   "metadata": {},
   "outputs": [],
   "source": [
    "import sys\n",
    "sys.path.append('/opt/notebooks/polytrader')"
   ]
  },
  {
   "cell_type": "code",
   "execution_count": null,
   "id": "6318697e",
   "metadata": {},
   "outputs": [],
   "source": [
    "from agents.polymarket.polymarket import Polymarket\n",
    "from agents.trackers.market_tracker import OrderBook\n",
    "from typing import Dict"
   ]
  },
  {
   "cell_type": "code",
   "execution_count": null,
   "id": "01f6aa0f",
   "metadata": {},
   "outputs": [],
   "source": [
    "p = Polymarket()"
   ]
  },
  {
   "cell_type": "code",
   "execution_count": null,
   "id": "26cabd0c",
   "metadata": {},
   "outputs": [],
   "source": [
    "game = p.get_market_by_slug('nba-sas-sac-2024-12-01')\n",
    "outcome = game.outcomes[1]\n",
    "# Initialize dictionary to store order books for each outcome\n",
    "order_books: Dict[str, OrderBook] = {}"
   ]
  },
  {
   "cell_type": "code",
   "execution_count": null,
   "id": "6c0b431c",
   "metadata": {},
   "outputs": [],
   "source": [
    "import matplotlib.pyplot as plt\n",
    "from IPython.display import clear_output, display\n",
    "import time\n",
    "from collections import deque\n",
    "import numpy as np"
   ]
  },
  {
   "cell_type": "code",
   "execution_count": null,
   "id": "42240b4d",
   "metadata": {},
   "outputs": [],
   "source": [
    "def handle_market_update(outcome: str, message: dict):\n",
    "    order_book = order_books.get(outcome)\n",
    "    if order_book is None:\n",
    "        order_book = OrderBook()\n",
    "        order_books[outcome] = order_book\n",
    "    \n",
    "    if message['event_type'] == 'book':\n",
    "        order_book.update_from_book(message)\n",
    "    elif message['event_type'] == 'price_change':\n",
    "        order_book.update_from_price_change(message)\n",
    "    elif message['event_type'] == 'last_trade_price':\n",
    "        order_book.update_last_trade(message)\n",
    "\n",
    "def create_live_plot(outcome: str, message: dict):\n",
    "    order_book = order_books.get(outcome)\n",
    "    if order_book is None:\n",
    "        return\n",
    "    now = time.time()\n",
    "    \n",
    "    ask_timestamps = order_book.asks_history.keys()\n",
    "    bid_timestamps = order_book.bids_history.keys()\n",
    "    buy_timestamps = order_book.trades[order_book.trades['side'] == 'BUY']['timestamp'].unique()\n",
    "    sell_timestamps = order_book.trades[order_book.trades['side'] == 'SELL']['timestamp'].unique()\n",
    "\n",
    "    best_asks = [min(order_book.asks_history[ts].index) for ts in ask_timestamps]\n",
    "    best_bids = [max(order_book.bids_history[ts].index) for ts in bid_timestamps]\n",
    "    last_buys = [order_book.trades[order_book.trades.timestamp == ts].iloc[0]['price'] for ts in buy_timestamps]\n",
    "    last_sells = [order_book.trades[order_book.trades.timestamp == ts].iloc[0]['price'] for ts in sell_timestamps]\n",
    "\n",
    "    # Create plot\n",
    "    fig, ax = plt.subplots(figsize=(12, 6))\n",
    "    \n",
    "    # Convert timestamps to relative time (seconds from start)\n",
    "    relative_ask_times = np.array([float(ts)/1000 for ts in ask_timestamps]) - float(now)\n",
    "    relative_bid_times = np.array([float(ts)/1000 for ts in bid_timestamps]) - float(now)\n",
    "    relative_buy_times = np.array([float(ts)/1000 for ts in buy_timestamps]) - float(now)\n",
    "    relative_sell_times = np.array([float(ts)/1000 for ts in sell_timestamps]) - float(now)\n",
    "    \n",
    "    # Plot data\n",
    "    ax.plot(relative_ask_times, best_asks, 'r-', label='Best Ask', alpha=0.7)\n",
    "    ax.plot(relative_bid_times, best_bids, 'g-', label='Best Bid', alpha=0.7)\n",
    "    ax.plot(relative_buy_times, last_buys, 'b.', label='Buy Trades', alpha=0.5)\n",
    "    ax.plot(relative_sell_times, last_sells, 'r.', label='Sell Trades', alpha=0.5)\n",
    "    \n",
    "    # Customize plot\n",
    "    ax.set_title(f'Live Order Book - {outcome}')\n",
    "    ax.set_xlabel('Time (seconds)')\n",
    "    ax.set_ylabel('Price')\n",
    "    ax.grid(True, alpha=0.3)\n",
    "    ax.legend()\n",
    "    \n",
    "    # Add current values as text\n",
    "    current_ask = best_asks[-1] if best_asks else None\n",
    "    current_bid = best_bids[-1] if best_bids else None\n",
    "    current_buy = last_buys[-1] if last_buys else None\n",
    "    current_sell = last_sells[-1] if last_sells else None\n",
    "    \n",
    "    text = f'Current Ask: {current_ask:.3f}\\n' if current_ask else ''\n",
    "    text += f'Current Bid: {current_bid:.3f}\\n' if current_bid else ''\n",
    "    text += f'Last Buy: {current_buy:.3f}\\n' if current_buy else ''\n",
    "    text += f'Last Sell: {current_sell:.3f}' if current_sell else ''\n",
    "    \n",
    "    ax.text(0.02, 0.98, text,\n",
    "            transform=ax.transAxes,\n",
    "            verticalalignment='top',\n",
    "            bbox=dict(boxstyle='round', facecolor='white', alpha=0.8))\n",
    "    \n",
    "    # Display plot\n",
    "    clear_output(wait=True)\n",
    "    display(fig)"
   ]
  },
  {
   "cell_type": "code",
   "execution_count": null,
   "id": "1ff2e247",
   "metadata": {},
   "outputs": [],
   "source": [
    "runtime_s=5*60"
   ]
  },
  {
   "cell_type": "code",
   "execution_count": null,
   "id": "d20dee0c",
   "metadata": {},
   "outputs": [],
   "source": [
    "from agents.trackers.market_tracker import MarketChannel\n",
    "import asyncio\n",
    "async def track(market_obj):\n",
    "    # Initialize market channel\n",
    "    market_channel = MarketChannel(market_obj)\n",
    "\n",
    "    await market_channel.connect()\n",
    "    \n",
    "    counter=0\n",
    "\n",
    "    # Add callback for specific assets\n",
    "    market_channel.add_outcome_callback(outcome, handle_market_update)\n",
    "    market_channel.add_outcome_callback(outcome, create_live_plot)\n",
    "\n",
    "    try:\n",
    "        # Keep connection alive\n",
    "        while counter<runtime_s:\n",
    "            await asyncio.sleep(1)\n",
    "            counter+=1\n",
    "    except KeyboardInterrupt:\n",
    "        await market_channel.close()\n",
    "        \n",
    "    print('Closing')\n",
    "    await market_channel.close()"
   ]
  },
  {
   "cell_type": "code",
   "execution_count": null,
   "id": "339e4af4",
   "metadata": {},
   "outputs": [],
   "source": [
    "await track(game)"
   ]
  },
  {
   "cell_type": "code",
   "execution_count": null,
   "id": "3e14124e",
   "metadata": {},
   "outputs": [],
   "source": [
    "import time\n",
    "time.time()"
   ]
  },
  {
   "cell_type": "code",
   "execution_count": null,
   "id": "9d6f5b92",
   "metadata": {},
   "outputs": [],
   "source": []
  }
 ],
 "metadata": {
  "kernelspec": {
   "display_name": "Python 3.9.10 (py39)",
   "language": "python",
   "name": "py39"
  },
  "language_info": {
   "codemirror_mode": {
    "name": "ipython",
    "version": 3
   },
   "file_extension": ".py",
   "mimetype": "text/x-python",
   "name": "python",
   "nbconvert_exporter": "python",
   "pygments_lexer": "ipython3",
   "version": "3.9.10"
  }
 },
 "nbformat": 4,
 "nbformat_minor": 5
}
