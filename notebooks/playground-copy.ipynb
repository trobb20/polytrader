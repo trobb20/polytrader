{
 "cells": [
  {
   "cell_type": "code",
   "execution_count": 52,
   "id": "6c118db3",
   "metadata": {},
   "outputs": [],
   "source": [
    "import sys\n",
    "sys.path.append('polytrader/')"
   ]
  },
  {
   "cell_type": "code",
   "execution_count": 53,
   "id": "6318697e",
   "metadata": {},
   "outputs": [],
   "source": [
    "from agents.polymarket.polymarket import Polymarket"
   ]
  },
  {
   "cell_type": "code",
   "execution_count": 54,
   "id": "01f6aa0f",
   "metadata": {},
   "outputs": [],
   "source": [
    "p = Polymarket()"
   ]
  },
  {
   "cell_type": "code",
   "execution_count": 55,
   "id": "e772a31b",
   "metadata": {},
   "outputs": [
    {
     "name": "stdout",
     "output_type": "stream",
     "text": [
      "0x3D68130CA229e08b9245be1CC8AD10Bb5889dEEE\n"
     ]
    }
   ],
   "source": [
    "print(p.get_address_for_private_key())"
   ]
  },
  {
   "cell_type": "code",
   "execution_count": 56,
   "id": "26cabd0c",
   "metadata": {},
   "outputs": [],
   "source": [
    "markets = p.client.get_markets()"
   ]
  },
  {
   "cell_type": "code",
   "execution_count": 57,
   "id": "a1939842",
   "metadata": {},
   "outputs": [
    {
     "name": "stdout",
     "output_type": "stream",
     "text": [
      "Market: \n",
      "\n",
      "Will the Fed cut rates in 2023?\n",
      "\n",
      "\n",
      "Market: \n",
      "\n",
      "Will the FDV of OpenSea's token 1 week after launch be above Blur's FDV?\n",
      "\n",
      "\n",
      "Market: \n",
      "\n",
      "Will there be a Senate vacancy in Pennsylvania by EOY?\n",
      "\n",
      "\n",
      "Market: \n",
      "\n",
      "Will the FDV of OpenSea's token be above $5b 1 week after launch?\n",
      "\n",
      "\n",
      "Market: \n",
      "\n",
      "Will Trump win the 2024 Iowa Caucus?\n",
      "\n",
      "\n",
      "Market: \n",
      "\n",
      "Will the FDV of OpenSea's token be above $15b 1 week after launch?\n",
      "\n",
      "\n",
      "Market: \n",
      "\n",
      "Will GPT-4 have 500b+ parameters?\n",
      "\n",
      "\n",
      "Market: \n",
      "\n",
      "Will Julie Su be the next U.S. Secretary of Labor?\n",
      "\n",
      "\n",
      "Market: \n",
      "\n",
      "Will Tim Ryan be the next Secretary of Labor?\n",
      "\n",
      "\n",
      "Market: \n",
      "\n",
      "Will Sean Patrick Maloney be the next Secretary of Labor?\n",
      "\n",
      "\n",
      "Market: \n",
      "\n",
      "Will the FDV of OpenSea's token be above $10b 1 week after launch?\n",
      "\n",
      "\n",
      "Market: \n",
      "\n",
      "Will Andy Levin be the next Secretary of Labor?\n",
      "\n",
      "\n"
     ]
    }
   ],
   "source": [
    "for market in markets['data']:\n",
    "    if market['accepting_orders']:\n",
    "        print('Market: \\n')\n",
    "        print(market['question'])\n",
    "        print('\\n')"
   ]
  },
  {
   "cell_type": "code",
   "execution_count": 58,
   "id": "7c777b6d",
   "metadata": {},
   "outputs": [],
   "source": [
    "big_L = p.client.get_trades()[0]['market']"
   ]
  },
  {
   "cell_type": "code",
   "execution_count": 59,
   "id": "bb0c5968",
   "metadata": {},
   "outputs": [
    {
     "data": {
      "text/plain": [
       "{'enable_order_book': False,\n",
       " 'active': True,\n",
       " 'closed': True,\n",
       " 'archived': False,\n",
       " 'accepting_orders': False,\n",
       " 'accepting_order_timestamp': '2024-11-24T18:58:13Z',\n",
       " 'minimum_order_size': 5,\n",
       " 'minimum_tick_size': 0.001,\n",
       " 'condition_id': '0x15d7d9526d1c5ac0f108e985affcbcc3ef7cc95b8fa34cb3f8c07bddd7063147',\n",
       " 'question_id': '0xc6a2367122685775e80838bc1288aff85b94aaad93955cb0a37b96266ea95942',\n",
       " 'question': 'Cavaliers vs. Hawks',\n",
       " 'description': 'In the upcoming NBA game, scheduled for November 29 at 2:30PM ET:\\nIf the Cleveland Cavaliers win, the market will resolve to “Cavaliers”.\\nIf the Atlanta Hawks win, the market will resolve to “Hawks”.\\nIf the game is not completed by December 6, 2024 (11:59 PM ET) or it ends in a tie, the market will resolve 50-50.',\n",
       " 'market_slug': 'nba-cle-atl-2024-11-29',\n",
       " 'end_date_iso': '2024-12-06T00:00:00Z',\n",
       " 'game_start_time': '2024-11-29T19:30:00Z',\n",
       " 'seconds_delay': 3,\n",
       " 'fpmm': '0x300D6D774188D301F1ce58C61FB630b8740b3C12',\n",
       " 'maker_base_fee': 0,\n",
       " 'taker_base_fee': 0,\n",
       " 'notifications_enabled': False,\n",
       " 'neg_risk': False,\n",
       " 'neg_risk_market_id': '',\n",
       " 'neg_risk_request_id': '',\n",
       " 'icon': 'https://polymarket-upload.s3.us-east-2.amazonaws.com/nba.png',\n",
       " 'image': 'https://polymarket-upload.s3.us-east-2.amazonaws.com/nba.png',\n",
       " 'rewards': {'rates': None, 'min_size': 0, 'max_spread': 0},\n",
       " 'is_50_50_outcome': False,\n",
       " 'tokens': [{'token_id': '65523547387958861278087425583583036311942902982963043203867572063778042972435',\n",
       "   'outcome': 'Cavaliers',\n",
       "   'price': 0,\n",
       "   'winner': False},\n",
       "  {'token_id': '19315651597617057855456486354020932775134054829602890317972781690109359579406',\n",
       "   'outcome': 'Hawks',\n",
       "   'price': 1,\n",
       "   'winner': True}],\n",
       " 'tags': ['Sports', 'NBA', 'Games']}"
      ]
     },
     "execution_count": 59,
     "metadata": {},
     "output_type": "execute_result"
    }
   ],
   "source": [
    "p.client.get_market(big_L)"
   ]
  },
  {
   "cell_type": "code",
   "execution_count": null,
   "id": "e4c269c7",
   "metadata": {},
   "outputs": [],
   "source": []
  }
 ],
 "metadata": {
  "kernelspec": {
   "display_name": "Python 3.9.10 (py39)",
   "language": "python",
   "name": "py39"
  },
  "language_info": {
   "codemirror_mode": {
    "name": "ipython",
    "version": 3
   },
   "file_extension": ".py",
   "mimetype": "text/x-python",
   "name": "python",
   "nbconvert_exporter": "python",
   "pygments_lexer": "ipython3",
   "version": "3.9.10"
  }
 },
 "nbformat": 4,
 "nbformat_minor": 5
}
