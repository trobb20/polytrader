{
 "cells": [
  {
   "cell_type": "code",
   "execution_count": 6,
   "id": "6c118db3",
   "metadata": {},
   "outputs": [],
   "source": [
    "import sys\n",
    "sys.path.append('/opt/notebooks/polytrader')"
   ]
  },
  {
   "cell_type": "code",
   "execution_count": 7,
   "id": "6318697e",
   "metadata": {},
   "outputs": [],
   "source": [
    "from agents.polymarket.polymarket import Polymarket\n",
    "from agents.trackers.market_tracker import OrderBook\n",
    "from typing import Dict"
   ]
  },
  {
   "cell_type": "code",
   "execution_count": 8,
   "id": "01f6aa0f",
   "metadata": {},
   "outputs": [],
   "source": [
    "p = Polymarket()"
   ]
  },
  {
   "cell_type": "code",
   "execution_count": 9,
   "id": "26cabd0c",
   "metadata": {},
   "outputs": [],
   "source": [
    "game = p.get_market_by_slug('nfl-phi-bal-2024-12-01')\n",
    "outcome = game.outcomes[0]\n",
    "# Initialize dictionary to store order books for each outcome\n",
    "order_books: Dict[str, OrderBook] = {}"
   ]
  },
  {
   "cell_type": "code",
   "execution_count": null,
   "id": "42240b4d",
   "metadata": {},
   "outputs": [],
   "source": [
    "def handle_market_update(outcome: str, message: dict):\n",
    "    order_book = order_books.get(outcome)\n",
    "    if order_book is None:\n",
    "        order_book = OrderBook()\n",
    "        order_books[outcome] = order_book\n",
    "    \n",
    "    if message['event_type'] == 'book':\n",
    "        order_book.update_from_book(message)\n",
    "    elif message['event_type'] == 'price_change':\n",
    "        order_book.update_from_price_change(message)\n",
    "    elif message['event_type'] == 'last_trade_price':\n",
    "        order_book.update_last_trade(message)\n",
    "    \n",
    "    # Example of accessing historical data\n",
    "    timestamps = order_book.get_timestamps()\n",
    "    if timestamps:\n",
    "        latest_ts = timestamps[-1]\n",
    "        asks, bids = order_book.get_order_book_at_timestamp(latest_ts)\n",
    "        print(f\"Order book at {latest_ts}:\")\n",
    "        print(\"Asks:\", asks)\n",
    "        print(\"Bids:\", bids)\n",
    "        \n",
    "        # Optionally clear old history to save memory\n",
    "        if len(timestamps) > 1000:  # Keep last 1000 snapshots\n",
    "            order_book.clear_history_before(timestamps[-1000])"
   ]
  },
  {
   "cell_type": "code",
   "execution_count": null,
   "id": "d20dee0c",
   "metadata": {},
   "outputs": [],
   "source": [
    "from agents.trackers.market_tracker import MarketChannel, MarketMessage\n",
    "import asyncio\n",
    "async def track(market_obj):\n",
    "    # Initialize market channel\n",
    "    market_channel = MarketChannel(market_obj)\n",
    "\n",
    "    await market_channel.connect()\n",
    "\n",
    "    # Add callback for specific assets\n",
    "    market_channel.add_outcome_callback(outcome, handle_market_update)\n",
    "\n",
    "    try:\n",
    "        # Keep connection alive\n",
    "        while True:\n",
    "            await asyncio.sleep(1)\n",
    "    except KeyboardInterrupt:\n",
    "        await market_channel.close()"
   ]
  },
  {
   "cell_type": "code",
   "execution_count": null,
   "id": "339e4af4",
   "metadata": {},
   "outputs": [],
   "source": [
    "await track(game)"
   ]
  }
 ],
 "metadata": {
  "kernelspec": {
   "display_name": "Python 3.9.10 (py39)",
   "language": "python",
   "name": "py39"
  },
  "language_info": {
   "codemirror_mode": {
    "name": "ipython",
    "version": 3
   },
   "file_extension": ".py",
   "mimetype": "text/x-python",
   "name": "python",
   "nbconvert_exporter": "python",
   "pygments_lexer": "ipython3",
   "version": "3.9.10"
  }
 },
 "nbformat": 4,
 "nbformat_minor": 5
}
