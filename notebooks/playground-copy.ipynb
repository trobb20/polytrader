{
 "cells": [
  {
   "cell_type": "code",
   "execution_count": 5,
   "id": "6c118db3",
   "metadata": {},
   "outputs": [],
   "source": [
    "import sys\n",
    "sys.path.append('/opt/notebooks/polytrader')"
   ]
  },
  {
   "cell_type": "code",
   "execution_count": 6,
   "id": "6318697e",
   "metadata": {},
   "outputs": [],
   "source": [
    "from agents.polymarket.polymarket import Polymarket"
   ]
  },
  {
   "cell_type": "code",
   "execution_count": 7,
   "id": "01f6aa0f",
   "metadata": {},
   "outputs": [],
   "source": [
    "p = Polymarket()"
   ]
  },
  {
   "cell_type": "code",
   "execution_count": 8,
   "id": "e772a31b",
   "metadata": {},
   "outputs": [
    {
     "name": "stdout",
     "output_type": "stream",
     "text": [
      "0x3D68130CA229e08b9245be1CC8AD10Bb5889dEEE\n"
     ]
    }
   ],
   "source": [
    "print(p.get_address_for_private_key())"
   ]
  },
  {
   "cell_type": "code",
   "execution_count": 9,
   "id": "26cabd0c",
   "metadata": {},
   "outputs": [],
   "source": [
    "markets = p.client.get_markets()"
   ]
  },
  {
   "cell_type": "code",
   "execution_count": 52,
   "id": "c83649b4",
   "metadata": {},
   "outputs": [],
   "source": [
    "def fetch_all_markets(p: Polymarket):\n",
    "    print('Fetching all markets...')\n",
    "    market_data=[]\n",
    "    nxt=''\n",
    "    count=0\n",
    "    while True:\n",
    "        resp = p.client.get_markets(next_cursor=nxt)\n",
    "        count+=resp.get('count', 0)\n",
    "        nxt=resp.get(\"next_cursor\", None)\n",
    "        if nxt and nxt != 'LTE=':\n",
    "            print(f'{count} markets found...')\n",
    "            market_data += resp['data']\n",
    "        elif nxt == 'LTE=':\n",
    "            print(f'Complete. {count} results.')\n",
    "            market_data += resp['data']\n",
    "            break\n",
    "            \n",
    "    return market_data\n",
    "        "
   ]
  },
  {
   "cell_type": "code",
   "execution_count": 53,
   "id": "f098aa7e",
   "metadata": {},
   "outputs": [
    {
     "name": "stdout",
     "output_type": "stream",
     "text": [
      "Fetching all markets...\n",
      "500 markets found...\n",
      "1000 markets found...\n",
      "1500 markets found...\n",
      "2000 markets found...\n",
      "2500 markets found...\n",
      "3000 markets found...\n",
      "3500 markets found...\n",
      "4000 markets found...\n",
      "4500 markets found...\n",
      "5000 markets found...\n",
      "5500 markets found...\n",
      "6000 markets found...\n",
      "6500 markets found...\n",
      "7000 markets found...\n",
      "7500 markets found...\n",
      "8000 markets found...\n",
      "8500 markets found...\n",
      "9000 markets found...\n",
      "9500 markets found...\n",
      "10000 markets found...\n",
      "10500 markets found...\n",
      "11000 markets found...\n",
      "11500 markets found...\n",
      "12000 markets found...\n",
      "12500 markets found...\n",
      "13000 markets found...\n",
      "13500 markets found...\n",
      "14000 markets found...\n",
      "14500 markets found...\n",
      "15000 markets found...\n",
      "15500 markets found...\n",
      "16000 markets found...\n",
      "16500 markets found...\n",
      "17000 markets found...\n",
      "17500 markets found...\n",
      "18000 markets found...\n",
      "18500 markets found...\n",
      "19000 markets found...\n",
      "19500 markets found...\n",
      "20000 markets found...\n",
      "20500 markets found...\n",
      "Complete. 20610 results.\n"
     ]
    }
   ],
   "source": [
    "all_market_data = fetch_all_markets(p)"
   ]
  },
  {
   "cell_type": "code",
   "execution_count": 49,
   "id": "a1939842",
   "metadata": {},
   "outputs": [],
   "source": [
    "def fetch_market_by_slug(p: Polymarket, market_data: list, slug: str):\n",
    "    for data in market_data:\n",
    "        if data.get('market_slug') == slug:\n",
    "            print('Found match!')\n",
    "            print(data.get('market_slug') + ' matches ' + slug)\n",
    "            return data\n",
    "    \n",
    "    print(f'No market found with slug {slug}')\n",
    "    return None"
   ]
  },
  {
   "cell_type": "code",
   "execution_count": 50,
   "id": "eb24ee43",
   "metadata": {},
   "outputs": [
    {
     "name": "stdout",
     "output_type": "stream",
     "text": [
      "Found match!\n",
      "nfl-phi-bal-2024-12-01 matches nfl-phi-bal-2024-12-01\n"
     ]
    }
   ],
   "source": [
    "m = fetch_market_by_slug(p, all_market_data, 'nfl-phi-bal-2024-12-01')"
   ]
  }
 ],
 "metadata": {
  "kernelspec": {
   "display_name": "Python 3.9.10 (py39)",
   "language": "python",
   "name": "py39"
  },
  "language_info": {
   "codemirror_mode": {
    "name": "ipython",
    "version": 3
   },
   "file_extension": ".py",
   "mimetype": "text/x-python",
   "name": "python",
   "nbconvert_exporter": "python",
   "pygments_lexer": "ipython3",
   "version": "3.9.10"
  }
 },
 "nbformat": 4,
 "nbformat_minor": 5
}
